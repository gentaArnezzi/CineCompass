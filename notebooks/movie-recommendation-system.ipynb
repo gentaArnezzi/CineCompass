{
 "cells": [
  {
   "cell_type": "code",
   "execution_count": 1,
   "metadata": {
    "execution": {
     "iopub.execute_input": "2023-07-18T09:34:45.951586Z",
     "iopub.status.busy": "2023-07-18T09:34:45.951098Z",
     "iopub.status.idle": "2023-07-18T09:34:45.956548Z",
     "shell.execute_reply": "2023-07-18T09:34:45.955479Z",
     "shell.execute_reply.started": "2023-07-18T09:34:45.951535Z"
    }
   },
   "outputs": [],
   "source": [
    "import pandas as pd\n",
    "import numpy as np"
   ]
  },
  {
   "cell_type": "code",
   "execution_count": 2,
   "metadata": {
    "execution": {
     "iopub.execute_input": "2023-07-18T09:34:45.974640Z",
     "iopub.status.busy": "2023-07-18T09:34:45.974242Z",
     "iopub.status.idle": "2023-07-18T09:34:46.501373Z",
     "shell.execute_reply": "2023-07-18T09:34:46.500305Z",
     "shell.execute_reply.started": "2023-07-18T09:34:45.974604Z"
    }
   },
   "outputs": [],
   "source": [
    "movies = pd.read_csv(\"../data/tmdb_5000_movies.csv\")\n",
    "credits = pd.read_csv(\"../data/tmdb_5000_credits.csv\")"
   ]
  },
  {
   "cell_type": "code",
   "execution_count": 3,
   "metadata": {},
   "outputs": [],
   "source": [
    "df = movies.merge(credits, on=\"title\")"
   ]
  },
  {
   "cell_type": "code",
   "execution_count": 4,
   "metadata": {
    "execution": {
     "iopub.execute_input": "2023-07-18T09:34:46.503677Z",
     "iopub.status.busy": "2023-07-18T09:34:46.503249Z",
     "iopub.status.idle": "2023-07-18T09:34:46.519437Z",
     "shell.execute_reply": "2023-07-18T09:34:46.518343Z",
     "shell.execute_reply.started": "2023-07-18T09:34:46.503637Z"
    }
   },
   "outputs": [
    {
     "data": {
      "text/html": [
       "<div>\n",
       "<style scoped>\n",
       "    .dataframe tbody tr th:only-of-type {\n",
       "        vertical-align: middle;\n",
       "    }\n",
       "\n",
       "    .dataframe tbody tr th {\n",
       "        vertical-align: top;\n",
       "    }\n",
       "\n",
       "    .dataframe thead th {\n",
       "        text-align: right;\n",
       "    }\n",
       "</style>\n",
       "<table border=\"1\" class=\"dataframe\">\n",
       "  <thead>\n",
       "    <tr style=\"text-align: right;\">\n",
       "      <th></th>\n",
       "      <th>budget</th>\n",
       "      <th>genres</th>\n",
       "      <th>homepage</th>\n",
       "      <th>id</th>\n",
       "      <th>keywords</th>\n",
       "      <th>original_language</th>\n",
       "      <th>original_title</th>\n",
       "      <th>overview</th>\n",
       "      <th>popularity</th>\n",
       "      <th>production_companies</th>\n",
       "      <th>...</th>\n",
       "      <th>runtime</th>\n",
       "      <th>spoken_languages</th>\n",
       "      <th>status</th>\n",
       "      <th>tagline</th>\n",
       "      <th>title</th>\n",
       "      <th>vote_average</th>\n",
       "      <th>vote_count</th>\n",
       "      <th>movie_id</th>\n",
       "      <th>cast</th>\n",
       "      <th>crew</th>\n",
       "    </tr>\n",
       "  </thead>\n",
       "  <tbody>\n",
       "    <tr>\n",
       "      <th>0</th>\n",
       "      <td>237000000</td>\n",
       "      <td>[{\"id\": 28, \"name\": \"Action\"}, {\"id\": 12, \"nam...</td>\n",
       "      <td>http://www.avatarmovie.com/</td>\n",
       "      <td>19995</td>\n",
       "      <td>[{\"id\": 1463, \"name\": \"culture clash\"}, {\"id\":...</td>\n",
       "      <td>en</td>\n",
       "      <td>Avatar</td>\n",
       "      <td>In the 22nd century, a paraplegic Marine is di...</td>\n",
       "      <td>150.437577</td>\n",
       "      <td>[{\"name\": \"Ingenious Film Partners\", \"id\": 289...</td>\n",
       "      <td>...</td>\n",
       "      <td>162.0</td>\n",
       "      <td>[{\"iso_639_1\": \"en\", \"name\": \"English\"}, {\"iso...</td>\n",
       "      <td>Released</td>\n",
       "      <td>Enter the World of Pandora.</td>\n",
       "      <td>Avatar</td>\n",
       "      <td>7.2</td>\n",
       "      <td>11800</td>\n",
       "      <td>19995</td>\n",
       "      <td>[{\"cast_id\": 242, \"character\": \"Jake Sully\", \"...</td>\n",
       "      <td>[{\"credit_id\": \"52fe48009251416c750aca23\", \"de...</td>\n",
       "    </tr>\n",
       "  </tbody>\n",
       "</table>\n",
       "<p>1 rows × 23 columns</p>\n",
       "</div>"
      ],
      "text/plain": [
       "      budget                                             genres  \\\n",
       "0  237000000  [{\"id\": 28, \"name\": \"Action\"}, {\"id\": 12, \"nam...   \n",
       "\n",
       "                      homepage     id  \\\n",
       "0  http://www.avatarmovie.com/  19995   \n",
       "\n",
       "                                            keywords original_language  \\\n",
       "0  [{\"id\": 1463, \"name\": \"culture clash\"}, {\"id\":...                en   \n",
       "\n",
       "  original_title                                           overview  \\\n",
       "0         Avatar  In the 22nd century, a paraplegic Marine is di...   \n",
       "\n",
       "   popularity                               production_companies  ... runtime  \\\n",
       "0  150.437577  [{\"name\": \"Ingenious Film Partners\", \"id\": 289...  ...   162.0   \n",
       "\n",
       "                                    spoken_languages    status  \\\n",
       "0  [{\"iso_639_1\": \"en\", \"name\": \"English\"}, {\"iso...  Released   \n",
       "\n",
       "                       tagline   title vote_average vote_count movie_id  \\\n",
       "0  Enter the World of Pandora.  Avatar          7.2      11800    19995   \n",
       "\n",
       "                                                cast  \\\n",
       "0  [{\"cast_id\": 242, \"character\": \"Jake Sully\", \"...   \n",
       "\n",
       "                                                crew  \n",
       "0  [{\"credit_id\": \"52fe48009251416c750aca23\", \"de...  \n",
       "\n",
       "[1 rows x 23 columns]"
      ]
     },
     "execution_count": 4,
     "metadata": {},
     "output_type": "execute_result"
    }
   ],
   "source": [
    "df.head(1)"
   ]
  },
  {
   "cell_type": "code",
   "execution_count": 5,
   "metadata": {
    "execution": {
     "iopub.execute_input": "2023-07-18T09:34:46.521130Z",
     "iopub.status.busy": "2023-07-18T09:34:46.520814Z",
     "iopub.status.idle": "2023-07-18T09:34:46.546055Z",
     "shell.execute_reply": "2023-07-18T09:34:46.544685Z",
     "shell.execute_reply.started": "2023-07-18T09:34:46.521101Z"
    }
   },
   "outputs": [],
   "source": [
    "df = movies.merge(credits, on=\"title\")"
   ]
  },
  {
   "cell_type": "code",
   "execution_count": 6,
   "metadata": {
    "execution": {
     "iopub.execute_input": "2023-07-18T09:34:46.549239Z",
     "iopub.status.busy": "2023-07-18T09:34:46.548798Z",
     "iopub.status.idle": "2023-07-18T09:34:46.572023Z",
     "shell.execute_reply": "2023-07-18T09:34:46.570862Z",
     "shell.execute_reply.started": "2023-07-18T09:34:46.549193Z"
    }
   },
   "outputs": [
    {
     "data": {
      "text/html": [
       "<div>\n",
       "<style scoped>\n",
       "    .dataframe tbody tr th:only-of-type {\n",
       "        vertical-align: middle;\n",
       "    }\n",
       "\n",
       "    .dataframe tbody tr th {\n",
       "        vertical-align: top;\n",
       "    }\n",
       "\n",
       "    .dataframe thead th {\n",
       "        text-align: right;\n",
       "    }\n",
       "</style>\n",
       "<table border=\"1\" class=\"dataframe\">\n",
       "  <thead>\n",
       "    <tr style=\"text-align: right;\">\n",
       "      <th></th>\n",
       "      <th>budget</th>\n",
       "      <th>genres</th>\n",
       "      <th>homepage</th>\n",
       "      <th>id</th>\n",
       "      <th>keywords</th>\n",
       "      <th>original_language</th>\n",
       "      <th>original_title</th>\n",
       "      <th>overview</th>\n",
       "      <th>popularity</th>\n",
       "      <th>production_companies</th>\n",
       "      <th>...</th>\n",
       "      <th>runtime</th>\n",
       "      <th>spoken_languages</th>\n",
       "      <th>status</th>\n",
       "      <th>tagline</th>\n",
       "      <th>title</th>\n",
       "      <th>vote_average</th>\n",
       "      <th>vote_count</th>\n",
       "      <th>movie_id</th>\n",
       "      <th>cast</th>\n",
       "      <th>crew</th>\n",
       "    </tr>\n",
       "  </thead>\n",
       "  <tbody>\n",
       "    <tr>\n",
       "      <th>0</th>\n",
       "      <td>237000000</td>\n",
       "      <td>[{\"id\": 28, \"name\": \"Action\"}, {\"id\": 12, \"nam...</td>\n",
       "      <td>http://www.avatarmovie.com/</td>\n",
       "      <td>19995</td>\n",
       "      <td>[{\"id\": 1463, \"name\": \"culture clash\"}, {\"id\":...</td>\n",
       "      <td>en</td>\n",
       "      <td>Avatar</td>\n",
       "      <td>In the 22nd century, a paraplegic Marine is di...</td>\n",
       "      <td>150.437577</td>\n",
       "      <td>[{\"name\": \"Ingenious Film Partners\", \"id\": 289...</td>\n",
       "      <td>...</td>\n",
       "      <td>162.0</td>\n",
       "      <td>[{\"iso_639_1\": \"en\", \"name\": \"English\"}, {\"iso...</td>\n",
       "      <td>Released</td>\n",
       "      <td>Enter the World of Pandora.</td>\n",
       "      <td>Avatar</td>\n",
       "      <td>7.2</td>\n",
       "      <td>11800</td>\n",
       "      <td>19995</td>\n",
       "      <td>[{\"cast_id\": 242, \"character\": \"Jake Sully\", \"...</td>\n",
       "      <td>[{\"credit_id\": \"52fe48009251416c750aca23\", \"de...</td>\n",
       "    </tr>\n",
       "  </tbody>\n",
       "</table>\n",
       "<p>1 rows × 23 columns</p>\n",
       "</div>"
      ],
      "text/plain": [
       "      budget                                             genres  \\\n",
       "0  237000000  [{\"id\": 28, \"name\": \"Action\"}, {\"id\": 12, \"nam...   \n",
       "\n",
       "                      homepage     id  \\\n",
       "0  http://www.avatarmovie.com/  19995   \n",
       "\n",
       "                                            keywords original_language  \\\n",
       "0  [{\"id\": 1463, \"name\": \"culture clash\"}, {\"id\":...                en   \n",
       "\n",
       "  original_title                                           overview  \\\n",
       "0         Avatar  In the 22nd century, a paraplegic Marine is di...   \n",
       "\n",
       "   popularity                               production_companies  ... runtime  \\\n",
       "0  150.437577  [{\"name\": \"Ingenious Film Partners\", \"id\": 289...  ...   162.0   \n",
       "\n",
       "                                    spoken_languages    status  \\\n",
       "0  [{\"iso_639_1\": \"en\", \"name\": \"English\"}, {\"iso...  Released   \n",
       "\n",
       "                       tagline   title vote_average vote_count movie_id  \\\n",
       "0  Enter the World of Pandora.  Avatar          7.2      11800    19995   \n",
       "\n",
       "                                                cast  \\\n",
       "0  [{\"cast_id\": 242, \"character\": \"Jake Sully\", \"...   \n",
       "\n",
       "                                                crew  \n",
       "0  [{\"credit_id\": \"52fe48009251416c750aca23\", \"de...  \n",
       "\n",
       "[1 rows x 23 columns]"
      ]
     },
     "execution_count": 6,
     "metadata": {},
     "output_type": "execute_result"
    }
   ],
   "source": [
    "df.head(1)"
   ]
  },
  {
   "cell_type": "code",
   "execution_count": 7,
   "metadata": {
    "execution": {
     "iopub.execute_input": "2023-07-18T09:34:46.573979Z",
     "iopub.status.busy": "2023-07-18T09:34:46.573655Z",
     "iopub.status.idle": "2023-07-18T09:34:46.597999Z",
     "shell.execute_reply": "2023-07-18T09:34:46.596950Z",
     "shell.execute_reply.started": "2023-07-18T09:34:46.573949Z"
    }
   },
   "outputs": [
    {
     "data": {
      "text/html": [
       "<div>\n",
       "<style scoped>\n",
       "    .dataframe tbody tr th:only-of-type {\n",
       "        vertical-align: middle;\n",
       "    }\n",
       "\n",
       "    .dataframe tbody tr th {\n",
       "        vertical-align: top;\n",
       "    }\n",
       "\n",
       "    .dataframe thead th {\n",
       "        text-align: right;\n",
       "    }\n",
       "</style>\n",
       "<table border=\"1\" class=\"dataframe\">\n",
       "  <thead>\n",
       "    <tr style=\"text-align: right;\">\n",
       "      <th></th>\n",
       "      <th>movie_id</th>\n",
       "      <th>title</th>\n",
       "      <th>overview</th>\n",
       "      <th>genres</th>\n",
       "      <th>keywords</th>\n",
       "      <th>cast</th>\n",
       "      <th>crew</th>\n",
       "    </tr>\n",
       "  </thead>\n",
       "  <tbody>\n",
       "    <tr>\n",
       "      <th>0</th>\n",
       "      <td>19995</td>\n",
       "      <td>Avatar</td>\n",
       "      <td>In the 22nd century, a paraplegic Marine is di...</td>\n",
       "      <td>[{\"id\": 28, \"name\": \"Action\"}, {\"id\": 12, \"nam...</td>\n",
       "      <td>[{\"id\": 1463, \"name\": \"culture clash\"}, {\"id\":...</td>\n",
       "      <td>[{\"cast_id\": 242, \"character\": \"Jake Sully\", \"...</td>\n",
       "      <td>[{\"credit_id\": \"52fe48009251416c750aca23\", \"de...</td>\n",
       "    </tr>\n",
       "  </tbody>\n",
       "</table>\n",
       "</div>"
      ],
      "text/plain": [
       "   movie_id   title                                           overview  \\\n",
       "0     19995  Avatar  In the 22nd century, a paraplegic Marine is di...   \n",
       "\n",
       "                                              genres  \\\n",
       "0  [{\"id\": 28, \"name\": \"Action\"}, {\"id\": 12, \"nam...   \n",
       "\n",
       "                                            keywords  \\\n",
       "0  [{\"id\": 1463, \"name\": \"culture clash\"}, {\"id\":...   \n",
       "\n",
       "                                                cast  \\\n",
       "0  [{\"cast_id\": 242, \"character\": \"Jake Sully\", \"...   \n",
       "\n",
       "                                                crew  \n",
       "0  [{\"credit_id\": \"52fe48009251416c750aca23\", \"de...  "
      ]
     },
     "execution_count": 7,
     "metadata": {},
     "output_type": "execute_result"
    }
   ],
   "source": [
    "df=df[[\"movie_id\",\"title\",\"overview\",\"genres\",\"keywords\",\"cast\",\"crew\"]]\n",
    "df.head(1)"
   ]
  },
  {
   "cell_type": "code",
   "execution_count": 8,
   "metadata": {
    "execution": {
     "iopub.execute_input": "2023-07-18T09:34:46.599735Z",
     "iopub.status.busy": "2023-07-18T09:34:46.599246Z",
     "iopub.status.idle": "2023-07-18T09:34:46.613972Z",
     "shell.execute_reply": "2023-07-18T09:34:46.612915Z",
     "shell.execute_reply.started": "2023-07-18T09:34:46.599703Z"
    }
   },
   "outputs": [
    {
     "data": {
      "text/plain": [
       "movie_id    0\n",
       "title       0\n",
       "overview    3\n",
       "genres      0\n",
       "keywords    0\n",
       "cast        0\n",
       "crew        0\n",
       "dtype: int64"
      ]
     },
     "execution_count": 8,
     "metadata": {},
     "output_type": "execute_result"
    }
   ],
   "source": [
    "df.isnull().sum()"
   ]
  },
  {
   "cell_type": "code",
   "execution_count": 9,
   "metadata": {
    "execution": {
     "iopub.execute_input": "2023-07-18T09:34:46.616250Z",
     "iopub.status.busy": "2023-07-18T09:34:46.615868Z",
     "iopub.status.idle": "2023-07-18T09:34:46.630736Z",
     "shell.execute_reply": "2023-07-18T09:34:46.629620Z",
     "shell.execute_reply.started": "2023-07-18T09:34:46.616223Z"
    }
   },
   "outputs": [],
   "source": [
    "df.dropna(inplace=True)"
   ]
  },
  {
   "cell_type": "code",
   "execution_count": 10,
   "metadata": {
    "execution": {
     "iopub.execute_input": "2023-07-18T09:34:46.787151Z",
     "iopub.status.busy": "2023-07-18T09:34:46.786437Z",
     "iopub.status.idle": "2023-07-18T09:34:46.799845Z",
     "shell.execute_reply": "2023-07-18T09:34:46.798659Z",
     "shell.execute_reply.started": "2023-07-18T09:34:46.787095Z"
    }
   },
   "outputs": [
    {
     "data": {
      "text/html": [
       "<div>\n",
       "<style scoped>\n",
       "    .dataframe tbody tr th:only-of-type {\n",
       "        vertical-align: middle;\n",
       "    }\n",
       "\n",
       "    .dataframe tbody tr th {\n",
       "        vertical-align: top;\n",
       "    }\n",
       "\n",
       "    .dataframe thead th {\n",
       "        text-align: right;\n",
       "    }\n",
       "</style>\n",
       "<table border=\"1\" class=\"dataframe\">\n",
       "  <thead>\n",
       "    <tr style=\"text-align: right;\">\n",
       "      <th></th>\n",
       "      <th>movie_id</th>\n",
       "      <th>title</th>\n",
       "      <th>overview</th>\n",
       "      <th>genres</th>\n",
       "      <th>keywords</th>\n",
       "      <th>cast</th>\n",
       "      <th>crew</th>\n",
       "    </tr>\n",
       "  </thead>\n",
       "  <tbody>\n",
       "    <tr>\n",
       "      <th>0</th>\n",
       "      <td>19995</td>\n",
       "      <td>Avatar</td>\n",
       "      <td>In the 22nd century, a paraplegic Marine is di...</td>\n",
       "      <td>[{\"id\": 28, \"name\": \"Action\"}, {\"id\": 12, \"nam...</td>\n",
       "      <td>[{\"id\": 1463, \"name\": \"culture clash\"}, {\"id\":...</td>\n",
       "      <td>[{\"cast_id\": 242, \"character\": \"Jake Sully\", \"...</td>\n",
       "      <td>[{\"credit_id\": \"52fe48009251416c750aca23\", \"de...</td>\n",
       "    </tr>\n",
       "  </tbody>\n",
       "</table>\n",
       "</div>"
      ],
      "text/plain": [
       "   movie_id   title                                           overview  \\\n",
       "0     19995  Avatar  In the 22nd century, a paraplegic Marine is di...   \n",
       "\n",
       "                                              genres  \\\n",
       "0  [{\"id\": 28, \"name\": \"Action\"}, {\"id\": 12, \"nam...   \n",
       "\n",
       "                                            keywords  \\\n",
       "0  [{\"id\": 1463, \"name\": \"culture clash\"}, {\"id\":...   \n",
       "\n",
       "                                                cast  \\\n",
       "0  [{\"cast_id\": 242, \"character\": \"Jake Sully\", \"...   \n",
       "\n",
       "                                                crew  \n",
       "0  [{\"credit_id\": \"52fe48009251416c750aca23\", \"de...  "
      ]
     },
     "execution_count": 10,
     "metadata": {},
     "output_type": "execute_result"
    }
   ],
   "source": [
    "df.head(1)"
   ]
  },
  {
   "cell_type": "code",
   "execution_count": 11,
   "metadata": {
    "execution": {
     "iopub.execute_input": "2023-07-18T09:34:46.964546Z",
     "iopub.status.busy": "2023-07-18T09:34:46.964152Z",
     "iopub.status.idle": "2023-07-18T09:34:46.969845Z",
     "shell.execute_reply": "2023-07-18T09:34:46.968656Z",
     "shell.execute_reply.started": "2023-07-18T09:34:46.964512Z"
    }
   },
   "outputs": [],
   "source": [
    "# Getting Genres[\"name\"] from this function\n",
    "import ast\n",
    "\n",
    "def convert(obj):\n",
    "    L=[]\n",
    "    for i in ast.literal_eval(obj):\n",
    "        L.append(i[\"name\"])\n",
    "    return L"
   ]
  },
  {
   "cell_type": "code",
   "execution_count": 12,
   "metadata": {
    "execution": {
     "iopub.execute_input": "2023-07-18T09:34:47.157488Z",
     "iopub.status.busy": "2023-07-18T09:34:47.156817Z",
     "iopub.status.idle": "2023-07-18T09:34:47.345435Z",
     "shell.execute_reply": "2023-07-18T09:34:47.344260Z",
     "shell.execute_reply.started": "2023-07-18T09:34:47.157451Z"
    }
   },
   "outputs": [],
   "source": [
    "df[\"genres\"] = df[\"genres\"].apply(convert)"
   ]
  },
  {
   "cell_type": "code",
   "execution_count": 13,
   "metadata": {
    "execution": {
     "iopub.execute_input": "2023-07-18T09:34:47.347946Z",
     "iopub.status.busy": "2023-07-18T09:34:47.347500Z",
     "iopub.status.idle": "2023-07-18T09:34:47.361589Z",
     "shell.execute_reply": "2023-07-18T09:34:47.360346Z",
     "shell.execute_reply.started": "2023-07-18T09:34:47.347905Z"
    }
   },
   "outputs": [
    {
     "data": {
      "text/html": [
       "<div>\n",
       "<style scoped>\n",
       "    .dataframe tbody tr th:only-of-type {\n",
       "        vertical-align: middle;\n",
       "    }\n",
       "\n",
       "    .dataframe tbody tr th {\n",
       "        vertical-align: top;\n",
       "    }\n",
       "\n",
       "    .dataframe thead th {\n",
       "        text-align: right;\n",
       "    }\n",
       "</style>\n",
       "<table border=\"1\" class=\"dataframe\">\n",
       "  <thead>\n",
       "    <tr style=\"text-align: right;\">\n",
       "      <th></th>\n",
       "      <th>movie_id</th>\n",
       "      <th>title</th>\n",
       "      <th>overview</th>\n",
       "      <th>genres</th>\n",
       "      <th>keywords</th>\n",
       "      <th>cast</th>\n",
       "      <th>crew</th>\n",
       "    </tr>\n",
       "  </thead>\n",
       "  <tbody>\n",
       "    <tr>\n",
       "      <th>0</th>\n",
       "      <td>19995</td>\n",
       "      <td>Avatar</td>\n",
       "      <td>In the 22nd century, a paraplegic Marine is di...</td>\n",
       "      <td>[Action, Adventure, Fantasy, Science Fiction]</td>\n",
       "      <td>[{\"id\": 1463, \"name\": \"culture clash\"}, {\"id\":...</td>\n",
       "      <td>[{\"cast_id\": 242, \"character\": \"Jake Sully\", \"...</td>\n",
       "      <td>[{\"credit_id\": \"52fe48009251416c750aca23\", \"de...</td>\n",
       "    </tr>\n",
       "  </tbody>\n",
       "</table>\n",
       "</div>"
      ],
      "text/plain": [
       "   movie_id   title                                           overview  \\\n",
       "0     19995  Avatar  In the 22nd century, a paraplegic Marine is di...   \n",
       "\n",
       "                                          genres  \\\n",
       "0  [Action, Adventure, Fantasy, Science Fiction]   \n",
       "\n",
       "                                            keywords  \\\n",
       "0  [{\"id\": 1463, \"name\": \"culture clash\"}, {\"id\":...   \n",
       "\n",
       "                                                cast  \\\n",
       "0  [{\"cast_id\": 242, \"character\": \"Jake Sully\", \"...   \n",
       "\n",
       "                                                crew  \n",
       "0  [{\"credit_id\": \"52fe48009251416c750aca23\", \"de...  "
      ]
     },
     "execution_count": 13,
     "metadata": {},
     "output_type": "execute_result"
    }
   ],
   "source": [
    "df.head(1)"
   ]
  },
  {
   "cell_type": "code",
   "execution_count": 14,
   "metadata": {
    "execution": {
     "iopub.execute_input": "2023-07-18T09:34:47.534876Z",
     "iopub.status.busy": "2023-07-18T09:34:47.534457Z",
     "iopub.status.idle": "2023-07-18T09:34:48.022495Z",
     "shell.execute_reply": "2023-07-18T09:34:48.019681Z",
     "shell.execute_reply.started": "2023-07-18T09:34:47.534841Z"
    }
   },
   "outputs": [],
   "source": [
    "df[\"keywords\"] = df[\"keywords\"].apply(convert)"
   ]
  },
  {
   "cell_type": "code",
   "execution_count": 15,
   "metadata": {
    "execution": {
     "iopub.execute_input": "2023-07-18T09:34:48.024996Z",
     "iopub.status.busy": "2023-07-18T09:34:48.024618Z",
     "iopub.status.idle": "2023-07-18T09:34:48.030437Z",
     "shell.execute_reply": "2023-07-18T09:34:48.029552Z",
     "shell.execute_reply.started": "2023-07-18T09:34:48.024964Z"
    }
   },
   "outputs": [],
   "source": [
    "# Getting Top 3 charecters in cast feature from this function\n",
    "def convert2(obj):\n",
    "    L=[]\n",
    "    counter = 0\n",
    "    for i in ast.literal_eval(obj):\n",
    "        if counter!=3:\n",
    "            L.append(i[\"name\"])\n",
    "            counter+=1\n",
    "        else:\n",
    "            break\n",
    "    return L\n"
   ]
  },
  {
   "cell_type": "code",
   "execution_count": 16,
   "metadata": {
    "execution": {
     "iopub.execute_input": "2023-07-18T09:34:48.032299Z",
     "iopub.status.busy": "2023-07-18T09:34:48.031917Z",
     "iopub.status.idle": "2023-07-18T09:34:52.086830Z",
     "shell.execute_reply": "2023-07-18T09:34:52.085906Z",
     "shell.execute_reply.started": "2023-07-18T09:34:48.032269Z"
    }
   },
   "outputs": [],
   "source": [
    "df[\"cast\"] = df[\"cast\"].apply(convert2)"
   ]
  },
  {
   "cell_type": "code",
   "execution_count": 17,
   "metadata": {
    "execution": {
     "iopub.execute_input": "2023-07-18T09:34:52.089992Z",
     "iopub.status.busy": "2023-07-18T09:34:52.089544Z",
     "iopub.status.idle": "2023-07-18T09:34:52.103732Z",
     "shell.execute_reply": "2023-07-18T09:34:52.102444Z",
     "shell.execute_reply.started": "2023-07-18T09:34:52.089949Z"
    }
   },
   "outputs": [
    {
     "data": {
      "text/html": [
       "<div>\n",
       "<style scoped>\n",
       "    .dataframe tbody tr th:only-of-type {\n",
       "        vertical-align: middle;\n",
       "    }\n",
       "\n",
       "    .dataframe tbody tr th {\n",
       "        vertical-align: top;\n",
       "    }\n",
       "\n",
       "    .dataframe thead th {\n",
       "        text-align: right;\n",
       "    }\n",
       "</style>\n",
       "<table border=\"1\" class=\"dataframe\">\n",
       "  <thead>\n",
       "    <tr style=\"text-align: right;\">\n",
       "      <th></th>\n",
       "      <th>movie_id</th>\n",
       "      <th>title</th>\n",
       "      <th>overview</th>\n",
       "      <th>genres</th>\n",
       "      <th>keywords</th>\n",
       "      <th>cast</th>\n",
       "      <th>crew</th>\n",
       "    </tr>\n",
       "  </thead>\n",
       "  <tbody>\n",
       "    <tr>\n",
       "      <th>0</th>\n",
       "      <td>19995</td>\n",
       "      <td>Avatar</td>\n",
       "      <td>In the 22nd century, a paraplegic Marine is di...</td>\n",
       "      <td>[Action, Adventure, Fantasy, Science Fiction]</td>\n",
       "      <td>[culture clash, future, space war, space colon...</td>\n",
       "      <td>[Sam Worthington, Zoe Saldana, Sigourney Weaver]</td>\n",
       "      <td>[{\"credit_id\": \"52fe48009251416c750aca23\", \"de...</td>\n",
       "    </tr>\n",
       "  </tbody>\n",
       "</table>\n",
       "</div>"
      ],
      "text/plain": [
       "   movie_id   title                                           overview  \\\n",
       "0     19995  Avatar  In the 22nd century, a paraplegic Marine is di...   \n",
       "\n",
       "                                          genres  \\\n",
       "0  [Action, Adventure, Fantasy, Science Fiction]   \n",
       "\n",
       "                                            keywords  \\\n",
       "0  [culture clash, future, space war, space colon...   \n",
       "\n",
       "                                               cast  \\\n",
       "0  [Sam Worthington, Zoe Saldana, Sigourney Weaver]   \n",
       "\n",
       "                                                crew  \n",
       "0  [{\"credit_id\": \"52fe48009251416c750aca23\", \"de...  "
      ]
     },
     "execution_count": 17,
     "metadata": {},
     "output_type": "execute_result"
    }
   ],
   "source": [
    "df.head(1)"
   ]
  },
  {
   "cell_type": "code",
   "execution_count": 18,
   "metadata": {
    "execution": {
     "iopub.execute_input": "2023-07-18T09:34:52.105710Z",
     "iopub.status.busy": "2023-07-18T09:34:52.105213Z",
     "iopub.status.idle": "2023-07-18T09:34:52.116373Z",
     "shell.execute_reply": "2023-07-18T09:34:52.115606Z",
     "shell.execute_reply.started": "2023-07-18T09:34:52.105664Z"
    }
   },
   "outputs": [],
   "source": [
    "# Getting Crew[\"Director\"] names from this function\n",
    "def fetch(obj):\n",
    "    L =[]\n",
    "    for i in ast.literal_eval(obj):\n",
    "        if i[\"job\"] == \"Director\":\n",
    "            L.append(i[\"name\"])\n",
    "            break\n",
    "    return L    "
   ]
  },
  {
   "cell_type": "code",
   "execution_count": 19,
   "metadata": {
    "execution": {
     "iopub.execute_input": "2023-07-18T09:34:52.117759Z",
     "iopub.status.busy": "2023-07-18T09:34:52.117411Z",
     "iopub.status.idle": "2023-07-18T09:34:56.387823Z",
     "shell.execute_reply": "2023-07-18T09:34:56.386665Z",
     "shell.execute_reply.started": "2023-07-18T09:34:52.117721Z"
    }
   },
   "outputs": [],
   "source": [
    "df[\"crew\"] = df[\"crew\"].apply(fetch)"
   ]
  },
  {
   "cell_type": "code",
   "execution_count": 20,
   "metadata": {
    "execution": {
     "iopub.execute_input": "2023-07-18T09:34:56.389409Z",
     "iopub.status.busy": "2023-07-18T09:34:56.389107Z",
     "iopub.status.idle": "2023-07-18T09:34:56.403393Z",
     "shell.execute_reply": "2023-07-18T09:34:56.402324Z",
     "shell.execute_reply.started": "2023-07-18T09:34:56.389383Z"
    }
   },
   "outputs": [
    {
     "data": {
      "text/html": [
       "<div>\n",
       "<style scoped>\n",
       "    .dataframe tbody tr th:only-of-type {\n",
       "        vertical-align: middle;\n",
       "    }\n",
       "\n",
       "    .dataframe tbody tr th {\n",
       "        vertical-align: top;\n",
       "    }\n",
       "\n",
       "    .dataframe thead th {\n",
       "        text-align: right;\n",
       "    }\n",
       "</style>\n",
       "<table border=\"1\" class=\"dataframe\">\n",
       "  <thead>\n",
       "    <tr style=\"text-align: right;\">\n",
       "      <th></th>\n",
       "      <th>movie_id</th>\n",
       "      <th>title</th>\n",
       "      <th>overview</th>\n",
       "      <th>genres</th>\n",
       "      <th>keywords</th>\n",
       "      <th>cast</th>\n",
       "      <th>crew</th>\n",
       "    </tr>\n",
       "  </thead>\n",
       "  <tbody>\n",
       "    <tr>\n",
       "      <th>0</th>\n",
       "      <td>19995</td>\n",
       "      <td>Avatar</td>\n",
       "      <td>In the 22nd century, a paraplegic Marine is di...</td>\n",
       "      <td>[Action, Adventure, Fantasy, Science Fiction]</td>\n",
       "      <td>[culture clash, future, space war, space colon...</td>\n",
       "      <td>[Sam Worthington, Zoe Saldana, Sigourney Weaver]</td>\n",
       "      <td>[James Cameron]</td>\n",
       "    </tr>\n",
       "  </tbody>\n",
       "</table>\n",
       "</div>"
      ],
      "text/plain": [
       "   movie_id   title                                           overview  \\\n",
       "0     19995  Avatar  In the 22nd century, a paraplegic Marine is di...   \n",
       "\n",
       "                                          genres  \\\n",
       "0  [Action, Adventure, Fantasy, Science Fiction]   \n",
       "\n",
       "                                            keywords  \\\n",
       "0  [culture clash, future, space war, space colon...   \n",
       "\n",
       "                                               cast             crew  \n",
       "0  [Sam Worthington, Zoe Saldana, Sigourney Weaver]  [James Cameron]  "
      ]
     },
     "execution_count": 20,
     "metadata": {},
     "output_type": "execute_result"
    }
   ],
   "source": [
    "df.head(1)"
   ]
  },
  {
   "cell_type": "code",
   "execution_count": 21,
   "metadata": {
    "execution": {
     "iopub.execute_input": "2023-07-18T09:34:56.407869Z",
     "iopub.status.busy": "2023-07-18T09:34:56.407169Z",
     "iopub.status.idle": "2023-07-18T09:34:56.446271Z",
     "shell.execute_reply": "2023-07-18T09:34:56.445004Z",
     "shell.execute_reply.started": "2023-07-18T09:34:56.407834Z"
    }
   },
   "outputs": [],
   "source": [
    " df[\"overview\"] = df[\"overview\"].apply(lambda x:x.split())"
   ]
  },
  {
   "cell_type": "code",
   "execution_count": 22,
   "metadata": {
    "execution": {
     "iopub.execute_input": "2023-07-18T09:34:56.447975Z",
     "iopub.status.busy": "2023-07-18T09:34:56.447644Z",
     "iopub.status.idle": "2023-07-18T09:34:56.489230Z",
     "shell.execute_reply": "2023-07-18T09:34:56.488185Z",
     "shell.execute_reply.started": "2023-07-18T09:34:56.447944Z"
    }
   },
   "outputs": [],
   "source": [
    "# Removing \" \" (spaces) between Words from features\n",
    "df[\"cast\"] = df[\"cast\"].apply(lambda x:[i.replace(\" \",\"\") for i in x])\n",
    "df[\"crew\"] = df[\"crew\"].apply(lambda x:[i.replace(\" \",\"\") for i in x])\n",
    "df[\"keywords\"] = df[\"keywords\"].apply(lambda x:[i.replace(\" \",\"\") for i in x])\n",
    "df[\"genres\"] = df[\"genres\"].apply(lambda x:[i.replace(\" \",\"\") for i in x])"
   ]
  },
  {
   "cell_type": "code",
   "execution_count": 23,
   "metadata": {
    "execution": {
     "iopub.execute_input": "2023-07-18T09:34:56.491411Z",
     "iopub.status.busy": "2023-07-18T09:34:56.490956Z",
     "iopub.status.idle": "2023-07-18T09:34:56.512757Z",
     "shell.execute_reply": "2023-07-18T09:34:56.511664Z",
     "shell.execute_reply.started": "2023-07-18T09:34:56.491367Z"
    }
   },
   "outputs": [
    {
     "data": {
      "text/html": [
       "<div>\n",
       "<style scoped>\n",
       "    .dataframe tbody tr th:only-of-type {\n",
       "        vertical-align: middle;\n",
       "    }\n",
       "\n",
       "    .dataframe tbody tr th {\n",
       "        vertical-align: top;\n",
       "    }\n",
       "\n",
       "    .dataframe thead th {\n",
       "        text-align: right;\n",
       "    }\n",
       "</style>\n",
       "<table border=\"1\" class=\"dataframe\">\n",
       "  <thead>\n",
       "    <tr style=\"text-align: right;\">\n",
       "      <th></th>\n",
       "      <th>movie_id</th>\n",
       "      <th>title</th>\n",
       "      <th>overview</th>\n",
       "      <th>genres</th>\n",
       "      <th>keywords</th>\n",
       "      <th>cast</th>\n",
       "      <th>crew</th>\n",
       "    </tr>\n",
       "  </thead>\n",
       "  <tbody>\n",
       "    <tr>\n",
       "      <th>0</th>\n",
       "      <td>19995</td>\n",
       "      <td>Avatar</td>\n",
       "      <td>[In, the, 22nd, century,, a, paraplegic, Marin...</td>\n",
       "      <td>[Action, Adventure, Fantasy, ScienceFiction]</td>\n",
       "      <td>[cultureclash, future, spacewar, spacecolony, ...</td>\n",
       "      <td>[SamWorthington, ZoeSaldana, SigourneyWeaver]</td>\n",
       "      <td>[JamesCameron]</td>\n",
       "    </tr>\n",
       "  </tbody>\n",
       "</table>\n",
       "</div>"
      ],
      "text/plain": [
       "   movie_id   title                                           overview  \\\n",
       "0     19995  Avatar  [In, the, 22nd, century,, a, paraplegic, Marin...   \n",
       "\n",
       "                                         genres  \\\n",
       "0  [Action, Adventure, Fantasy, ScienceFiction]   \n",
       "\n",
       "                                            keywords  \\\n",
       "0  [cultureclash, future, spacewar, spacecolony, ...   \n",
       "\n",
       "                                            cast            crew  \n",
       "0  [SamWorthington, ZoeSaldana, SigourneyWeaver]  [JamesCameron]  "
      ]
     },
     "execution_count": 23,
     "metadata": {},
     "output_type": "execute_result"
    }
   ],
   "source": [
    "df.head(1)"
   ]
  },
  {
   "cell_type": "code",
   "execution_count": 24,
   "metadata": {
    "execution": {
     "iopub.execute_input": "2023-07-18T09:34:56.514701Z",
     "iopub.status.busy": "2023-07-18T09:34:56.514364Z",
     "iopub.status.idle": "2023-07-18T09:34:56.574525Z",
     "shell.execute_reply": "2023-07-18T09:34:56.573654Z",
     "shell.execute_reply.started": "2023-07-18T09:34:56.514672Z"
    }
   },
   "outputs": [],
   "source": [
    "df[\"tags\"] = df[\"overview\"] + df[\"genres\"] + df[\"keywords\"] + df[\"cast\"] + df[\"crew\"]"
   ]
  },
  {
   "cell_type": "code",
   "execution_count": 25,
   "metadata": {
    "execution": {
     "iopub.execute_input": "2023-07-18T09:34:56.576387Z",
     "iopub.status.busy": "2023-07-18T09:34:56.575544Z",
     "iopub.status.idle": "2023-07-18T09:34:56.582737Z",
     "shell.execute_reply": "2023-07-18T09:34:56.581630Z",
     "shell.execute_reply.started": "2023-07-18T09:34:56.576354Z"
    }
   },
   "outputs": [],
   "source": [
    "# new_df data is ready now!!!\n",
    "new_df = df[[\"movie_id\", \"title\", \"tags\"]]"
   ]
  },
  {
   "cell_type": "code",
   "execution_count": 26,
   "metadata": {
    "execution": {
     "iopub.execute_input": "2023-07-18T09:34:56.584818Z",
     "iopub.status.busy": "2023-07-18T09:34:56.584375Z",
     "iopub.status.idle": "2023-07-18T09:34:56.618624Z",
     "shell.execute_reply": "2023-07-18T09:34:56.617619Z",
     "shell.execute_reply.started": "2023-07-18T09:34:56.584779Z"
    }
   },
   "outputs": [
    {
     "name": "stderr",
     "output_type": "stream",
     "text": [
      "/var/folders/vc/b9vwsv0n3fgchjl0lvbcyn5m0000gn/T/ipykernel_97483/1914434289.py:1: SettingWithCopyWarning: \n",
      "A value is trying to be set on a copy of a slice from a DataFrame.\n",
      "Try using .loc[row_indexer,col_indexer] = value instead\n",
      "\n",
      "See the caveats in the documentation: https://pandas.pydata.org/pandas-docs/stable/user_guide/indexing.html#returning-a-view-versus-a-copy\n",
      "  new_df[\"tags\"] = new_df[\"tags\"].apply(lambda x:\" \".join(x))\n",
      "/var/folders/vc/b9vwsv0n3fgchjl0lvbcyn5m0000gn/T/ipykernel_97483/1914434289.py:2: SettingWithCopyWarning: \n",
      "A value is trying to be set on a copy of a slice from a DataFrame.\n",
      "Try using .loc[row_indexer,col_indexer] = value instead\n",
      "\n",
      "See the caveats in the documentation: https://pandas.pydata.org/pandas-docs/stable/user_guide/indexing.html#returning-a-view-versus-a-copy\n",
      "  new_df[\"tags\"] = new_df[\"tags\"].apply(lambda x:x.lower())\n"
     ]
    }
   ],
   "source": [
    "new_df[\"tags\"] = new_df[\"tags\"].apply(lambda x:\" \".join(x))\n",
    "new_df[\"tags\"] = new_df[\"tags\"].apply(lambda x:x.lower())"
   ]
  },
  {
   "cell_type": "code",
   "execution_count": 27,
   "metadata": {
    "execution": {
     "iopub.execute_input": "2023-07-18T09:34:56.620287Z",
     "iopub.status.busy": "2023-07-18T09:34:56.620000Z",
     "iopub.status.idle": "2023-07-18T09:34:56.629931Z",
     "shell.execute_reply": "2023-07-18T09:34:56.628898Z",
     "shell.execute_reply.started": "2023-07-18T09:34:56.620259Z"
    }
   },
   "outputs": [
    {
     "data": {
      "text/html": [
       "<div>\n",
       "<style scoped>\n",
       "    .dataframe tbody tr th:only-of-type {\n",
       "        vertical-align: middle;\n",
       "    }\n",
       "\n",
       "    .dataframe tbody tr th {\n",
       "        vertical-align: top;\n",
       "    }\n",
       "\n",
       "    .dataframe thead th {\n",
       "        text-align: right;\n",
       "    }\n",
       "</style>\n",
       "<table border=\"1\" class=\"dataframe\">\n",
       "  <thead>\n",
       "    <tr style=\"text-align: right;\">\n",
       "      <th></th>\n",
       "      <th>movie_id</th>\n",
       "      <th>title</th>\n",
       "      <th>tags</th>\n",
       "    </tr>\n",
       "  </thead>\n",
       "  <tbody>\n",
       "    <tr>\n",
       "      <th>0</th>\n",
       "      <td>19995</td>\n",
       "      <td>Avatar</td>\n",
       "      <td>in the 22nd century, a paraplegic marine is di...</td>\n",
       "    </tr>\n",
       "  </tbody>\n",
       "</table>\n",
       "</div>"
      ],
      "text/plain": [
       "   movie_id   title                                               tags\n",
       "0     19995  Avatar  in the 22nd century, a paraplegic marine is di..."
      ]
     },
     "execution_count": 27,
     "metadata": {},
     "output_type": "execute_result"
    }
   ],
   "source": [
    "new_df.head(1)"
   ]
  },
  {
   "cell_type": "code",
   "execution_count": 28,
   "metadata": {
    "execution": {
     "iopub.execute_input": "2023-07-18T09:34:56.632049Z",
     "iopub.status.busy": "2023-07-18T09:34:56.631603Z",
     "iopub.status.idle": "2023-07-18T09:34:56.640334Z",
     "shell.execute_reply": "2023-07-18T09:34:56.639488Z",
     "shell.execute_reply.started": "2023-07-18T09:34:56.632017Z"
    }
   },
   "outputs": [],
   "source": [
    "# Poreter Stemmer for handeling repeated words in tags feature\n",
    "import nltk\n",
    "from nltk.stem.porter import PorterStemmer\n",
    "ps=PorterStemmer()"
   ]
  },
  {
   "cell_type": "code",
   "execution_count": 29,
   "metadata": {
    "execution": {
     "iopub.execute_input": "2023-07-18T09:34:56.643247Z",
     "iopub.status.busy": "2023-07-18T09:34:56.642350Z",
     "iopub.status.idle": "2023-07-18T09:34:56.652746Z",
     "shell.execute_reply": "2023-07-18T09:34:56.651652Z",
     "shell.execute_reply.started": "2023-07-18T09:34:56.643212Z"
    }
   },
   "outputs": [],
   "source": [
    "def stem(text):\n",
    "    y=[]\n",
    "    for i in text.split():\n",
    "        y.append(ps.stem(i))\n",
    "    \n",
    "    return \" \".join(y)"
   ]
  },
  {
   "cell_type": "code",
   "execution_count": 30,
   "metadata": {
    "execution": {
     "iopub.execute_input": "2023-07-18T09:34:56.654669Z",
     "iopub.status.busy": "2023-07-18T09:34:56.654243Z",
     "iopub.status.idle": "2023-07-18T09:35:04.033312Z",
     "shell.execute_reply": "2023-07-18T09:35:04.032183Z",
     "shell.execute_reply.started": "2023-07-18T09:34:56.654629Z"
    }
   },
   "outputs": [
    {
     "name": "stderr",
     "output_type": "stream",
     "text": [
      "/var/folders/vc/b9vwsv0n3fgchjl0lvbcyn5m0000gn/T/ipykernel_97483/825579503.py:1: SettingWithCopyWarning: \n",
      "A value is trying to be set on a copy of a slice from a DataFrame.\n",
      "Try using .loc[row_indexer,col_indexer] = value instead\n",
      "\n",
      "See the caveats in the documentation: https://pandas.pydata.org/pandas-docs/stable/user_guide/indexing.html#returning-a-view-versus-a-copy\n",
      "  new_df[\"tags\"] = new_df[\"tags\"].apply(stem)\n"
     ]
    }
   ],
   "source": [
    "new_df[\"tags\"] = new_df[\"tags\"].apply(stem)"
   ]
  },
  {
   "cell_type": "code",
   "execution_count": 31,
   "metadata": {
    "execution": {
     "iopub.execute_input": "2023-07-18T09:35:04.035152Z",
     "iopub.status.busy": "2023-07-18T09:35:04.034807Z",
     "iopub.status.idle": "2023-07-18T09:35:04.042649Z",
     "shell.execute_reply": "2023-07-18T09:35:04.041484Z",
     "shell.execute_reply.started": "2023-07-18T09:35:04.035123Z"
    }
   },
   "outputs": [],
   "source": [
    "# Vectorization: Creating each movie as a Vector\n",
    "from sklearn.feature_extraction.text import CountVectorizer\n",
    "cv = CountVectorizer(max_features=5000, stop_words=\"english\")"
   ]
  },
  {
   "cell_type": "code",
   "execution_count": 32,
   "metadata": {
    "execution": {
     "iopub.execute_input": "2023-07-18T09:35:04.045563Z",
     "iopub.status.busy": "2023-07-18T09:35:04.044469Z",
     "iopub.status.idle": "2023-07-18T09:35:04.746061Z",
     "shell.execute_reply": "2023-07-18T09:35:04.744981Z",
     "shell.execute_reply.started": "2023-07-18T09:35:04.045519Z"
    }
   },
   "outputs": [],
   "source": [
    "vector = cv.fit_transform(new_df[\"tags\"]).toarray()"
   ]
  },
  {
   "cell_type": "code",
   "execution_count": 33,
   "metadata": {
    "execution": {
     "iopub.execute_input": "2023-07-18T09:35:04.750348Z",
     "iopub.status.busy": "2023-07-18T09:35:04.749991Z",
     "iopub.status.idle": "2023-07-18T09:35:06.790046Z",
     "shell.execute_reply": "2023-07-18T09:35:06.788837Z",
     "shell.execute_reply.started": "2023-07-18T09:35:04.750316Z"
    }
   },
   "outputs": [],
   "source": [
    "# Calculating Cosine Angle between vectors\n",
    "from sklearn.metrics.pairwise import cosine_similarity\n",
    "similar = cosine_similarity(vector)"
   ]
  },
  {
   "cell_type": "code",
   "execution_count": 34,
   "metadata": {
    "execution": {
     "iopub.execute_input": "2023-07-18T09:35:06.798548Z",
     "iopub.status.busy": "2023-07-18T09:35:06.796431Z",
     "iopub.status.idle": "2023-07-18T09:35:06.805060Z",
     "shell.execute_reply": "2023-07-18T09:35:06.804109Z",
     "shell.execute_reply.started": "2023-07-18T09:35:06.798482Z"
    }
   },
   "outputs": [],
   "source": [
    "# Creating our Recommend function it will return Top 5 movies back\n",
    "def recommend(movie):\n",
    "    movie_index = new_df[new_df[\"title\"]==movie].index[0]\n",
    "    distances = similar[movie_index]\n",
    "    movie_list = sorted(list(enumerate(distances)),reverse=True,key=lambda x:x[1])[1:6]\n",
    "    \n",
    "    for i in movie_list: \n",
    "        print(new_df.iloc[i[0]].title)"
   ]
  },
  {
   "cell_type": "code",
   "execution_count": 35,
   "metadata": {
    "execution": {
     "iopub.execute_input": "2023-07-18T09:35:06.806674Z",
     "iopub.status.busy": "2023-07-18T09:35:06.806169Z",
     "iopub.status.idle": "2023-07-18T09:35:06.826026Z",
     "shell.execute_reply": "2023-07-18T09:35:06.824806Z",
     "shell.execute_reply.started": "2023-07-18T09:35:06.806639Z"
    }
   },
   "outputs": [
    {
     "name": "stdout",
     "output_type": "stream",
     "text": [
      "The Dark Knight\n",
      "Batman\n",
      "Batman\n",
      "The Dark Knight Rises\n",
      "10th & Wolf\n"
     ]
    }
   ],
   "source": [
    "recommend(\"Batman Begins\")"
   ]
  },
  {
   "cell_type": "code",
   "execution_count": 36,
   "metadata": {
    "execution": {
     "iopub.execute_input": "2023-07-18T09:35:06.828368Z",
     "iopub.status.busy": "2023-07-18T09:35:06.827529Z",
     "iopub.status.idle": "2023-07-18T09:35:06.841976Z",
     "shell.execute_reply": "2023-07-18T09:35:06.840784Z",
     "shell.execute_reply.started": "2023-07-18T09:35:06.828319Z"
    }
   },
   "outputs": [
    {
     "name": "stdout",
     "output_type": "stream",
     "text": [
      "Iron Man 3\n",
      "Avengers: Age of Ultron\n",
      "Captain America: Civil War\n",
      "Captain America: The First Avenger\n",
      "Iron Man\n"
     ]
    }
   ],
   "source": [
    "recommend(\"The Avengers\")"
   ]
  },
  {
   "cell_type": "code",
   "execution_count": 37,
   "metadata": {
    "execution": {
     "iopub.execute_input": "2023-07-18T09:35:06.844263Z",
     "iopub.status.busy": "2023-07-18T09:35:06.843657Z",
     "iopub.status.idle": "2023-07-18T09:35:06.860712Z",
     "shell.execute_reply": "2023-07-18T09:35:06.859415Z",
     "shell.execute_reply.started": "2023-07-18T09:35:06.844226Z"
    }
   },
   "outputs": [
    {
     "name": "stdout",
     "output_type": "stream",
     "text": [
      "Pirates of the Caribbean: Dead Man's Chest\n",
      "Pirates of the Caribbean: The Curse of the Black Pearl\n",
      "Pirates of the Caribbean: On Stranger Tides\n",
      "Life of Pi\n",
      "20,000 Leagues Under the Sea\n"
     ]
    }
   ],
   "source": [
    "recommend(\"Pirates of the Caribbean: At World's End\")"
   ]
  },
  {
   "cell_type": "code",
   "execution_count": 38,
   "metadata": {
    "execution": {
     "iopub.execute_input": "2023-07-18T09:35:06.862897Z",
     "iopub.status.busy": "2023-07-18T09:35:06.861968Z",
     "iopub.status.idle": "2023-07-18T09:35:06.873512Z",
     "shell.execute_reply": "2023-07-18T09:35:06.872516Z",
     "shell.execute_reply.started": "2023-07-18T09:35:06.862859Z"
    }
   },
   "outputs": [],
   "source": [
    "import pickle"
   ]
  },
  {
   "cell_type": "code",
   "execution_count": 39,
   "metadata": {
    "execution": {
     "iopub.execute_input": "2023-07-18T09:35:06.875686Z",
     "iopub.status.busy": "2023-07-18T09:35:06.874740Z",
     "iopub.status.idle": "2023-07-18T09:35:06.909223Z",
     "shell.execute_reply": "2023-07-18T09:35:06.908263Z",
     "shell.execute_reply.started": "2023-07-18T09:35:06.875650Z"
    }
   },
   "outputs": [],
   "source": [
    "pickle.dump(new_df.to_dict(), open(\"movies.pkl\", \"wb\"))"
   ]
  },
  {
   "cell_type": "code",
   "execution_count": 40,
   "metadata": {
    "execution": {
     "iopub.execute_input": "2023-07-18T09:35:06.910739Z",
     "iopub.status.busy": "2023-07-18T09:35:06.910404Z",
     "iopub.status.idle": "2023-07-18T09:35:07.690237Z",
     "shell.execute_reply": "2023-07-18T09:35:07.689047Z",
     "shell.execute_reply.started": "2023-07-18T09:35:06.910707Z"
    }
   },
   "outputs": [],
   "source": [
    "pickle.dump(similar,open(\"similar.pkl\",\"wb\"))"
   ]
  }
 ],
 "metadata": {
  "kernelspec": {
   "display_name": "Python 3.10.9 64-bit",
   "language": "python",
   "name": "python3"
  },
  "language_info": {
   "codemirror_mode": {
    "name": "ipython",
    "version": 3
   },
   "file_extension": ".py",
   "mimetype": "text/x-python",
   "name": "python",
   "nbconvert_exporter": "python",
   "pygments_lexer": "ipython3",
   "version": "3.10.9"
  },
  "vscode": {
   "interpreter": {
    "hash": "b0fa6594d8f4cbf19f97940f81e996739fb7646882a419484c72d19e05852a7e"
   }
  }
 },
 "nbformat": 4,
 "nbformat_minor": 4
}
